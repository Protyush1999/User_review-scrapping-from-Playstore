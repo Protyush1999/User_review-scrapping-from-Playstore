{
  "nbformat": 4,
  "nbformat_minor": 0,
  "metadata": {
    "colab": {
      "provenance": []
    },
    "kernelspec": {
      "name": "python3",
      "display_name": "Python 3"
    },
    "language_info": {
      "name": "python"
    }
  },
  "cells": [
    {
      "cell_type": "code",
      "execution_count": null,
      "metadata": {
        "id": "2GPJiwYaekkt"
      },
      "outputs": [],
      "source": [
        "!pip install -q google_play_scraper\n",
        "!pip install -q transformers\n",
        "!pip install -q plotly-express"
      ]
    },
    {
      "cell_type": "code",
      "source": [
        "!pip install PyYAML==5.4.1"
      ],
      "metadata": {
        "colab": {
          "base_uri": "https://localhost:8080/"
        },
        "id": "Q7H0ebbrivAv",
        "outputId": "70141d4c-3fb6-4f09-c4b9-ae8040185681"
      },
      "execution_count": null,
      "outputs": [
        {
          "output_type": "stream",
          "name": "stdout",
          "text": [
            "Looking in indexes: https://pypi.org/simple, https://us-python.pkg.dev/colab-wheels/public/simple/\n",
            "Collecting PyYAML==5.4.1\n",
            "  Downloading PyYAML-5.4.1-cp37-cp37m-manylinux1_x86_64.whl (636 kB)\n",
            "\u001b[K     |████████████████████████████████| 636 kB 5.2 MB/s \n",
            "\u001b[?25hInstalling collected packages: PyYAML\n",
            "  Attempting uninstall: PyYAML\n",
            "    Found existing installation: PyYAML 6.0\n",
            "    Uninstalling PyYAML-6.0:\n",
            "      Successfully uninstalled PyYAML-6.0\n",
            "Successfully installed PyYAML-5.4.1\n"
          ]
        }
      ]
    },
    {
      "cell_type": "code",
      "source": [
        "import pandas as pd\n",
        "import numpy as np\n",
        "from google_play_scraper import app, Sort, reviews_all\n",
        "import plotly.express as px"
      ],
      "metadata": {
        "id": "8B3yqq7gjPg2"
      },
      "execution_count": null,
      "outputs": []
    },
    {
      "cell_type": "code",
      "source": [
        "bb = reviews_all('com.bigbasket.mobileapp' , sleep_milliseconds=0, lang= 'en', sort= Sort.NEWEST)"
      ],
      "metadata": {
        "id": "Q0BC600aT4du"
      },
      "execution_count": null,
      "outputs": []
    },
    {
      "cell_type": "code",
      "source": [
        "df1= pd.json_normalize(bb)"
      ],
      "metadata": {
        "id": "89302iUIs-Tj"
      },
      "execution_count": null,
      "outputs": []
    },
    {
      "cell_type": "code",
      "source": [
        "df1.head()"
      ],
      "metadata": {
        "colab": {
          "base_uri": "https://localhost:8080/",
          "height": 406
        },
        "id": "9qQySiO-UhBU",
        "outputId": "3a04d363-78d4-4e2e-f3fe-06b738a6a719"
      },
      "execution_count": null,
      "outputs": [
        {
          "output_type": "execute_result",
          "data": {
            "text/plain": [
              "                               reviewId            userName  \\\n",
              "0  f793d90d-73dc-4810-9f1c-6f2d6cd4658c         Tanu Sharma   \n",
              "1  f8a9f795-01a2-405d-8be2-acedce6ad56d         Mahesh Mahi   \n",
              "2  d8d1bed2-4551-4d97-9fec-9fa7464e2e7f        Ramesh Datla   \n",
              "3  bee55523-b64c-4420-8889-f08e3bb896a2  swechchha sarojkar   \n",
              "4  c7a61b2a-e044-4c2e-9917-fc4a008cefb2        sam shinchan   \n",
              "\n",
              "                                           userImage  \\\n",
              "0  https://play-lh.googleusercontent.com/a/ALm5wu...   \n",
              "1  https://play-lh.googleusercontent.com/a/ALm5wu...   \n",
              "2  https://play-lh.googleusercontent.com/a/ALm5wu...   \n",
              "3  https://play-lh.googleusercontent.com/a-/ACNPE...   \n",
              "4  https://play-lh.googleusercontent.com/a-/ACNPE...   \n",
              "\n",
              "                                             content  score  thumbsUpCount  \\\n",
              "0                Nice but price higher than jio mart      5              0   \n",
              "1  good fresh products... Well service... On time...      5              0   \n",
              "2  Fast and easy using and ordering. Will wait an...      4              0   \n",
              "3  Fake one. If u cancelled an order believe me t...      1              0   \n",
              "4  Didn't enjoy shipping nothing I'm really sugge...      1              0   \n",
              "\n",
              "  reviewCreatedVersion                  at  \\\n",
              "0                 None 2022-10-19 08:19:18   \n",
              "1                7.6.0 2022-10-19 08:04:47   \n",
              "2                7.6.2 2022-10-19 08:04:16   \n",
              "3                7.6.2 2022-10-19 07:37:46   \n",
              "4                7.6.2 2022-10-19 07:36:21   \n",
              "\n",
              "                                        replyContent           repliedAt  \n",
              "0  Your happiness and ease is our prime importanc... 2022-10-19 08:35:29  \n",
              "1  Thank you for taking the time to write about y... 2022-10-19 08:20:25  \n",
              "2  We greatly appreciate your business…. Thank yo... 2022-10-19 08:07:07  \n",
              "3  Hi, Please accept our sincere apology. We are ... 2022-10-19 07:55:20  \n",
              "4  Hi sam, Please accept our sincere apology. We ... 2022-10-19 07:42:29  "
            ],
            "text/html": [
              "\n",
              "  <div id=\"df-122e0db0-f6cd-4ec4-8a97-b3053dc22c97\">\n",
              "    <div class=\"colab-df-container\">\n",
              "      <div>\n",
              "<style scoped>\n",
              "    .dataframe tbody tr th:only-of-type {\n",
              "        vertical-align: middle;\n",
              "    }\n",
              "\n",
              "    .dataframe tbody tr th {\n",
              "        vertical-align: top;\n",
              "    }\n",
              "\n",
              "    .dataframe thead th {\n",
              "        text-align: right;\n",
              "    }\n",
              "</style>\n",
              "<table border=\"1\" class=\"dataframe\">\n",
              "  <thead>\n",
              "    <tr style=\"text-align: right;\">\n",
              "      <th></th>\n",
              "      <th>reviewId</th>\n",
              "      <th>userName</th>\n",
              "      <th>userImage</th>\n",
              "      <th>content</th>\n",
              "      <th>score</th>\n",
              "      <th>thumbsUpCount</th>\n",
              "      <th>reviewCreatedVersion</th>\n",
              "      <th>at</th>\n",
              "      <th>replyContent</th>\n",
              "      <th>repliedAt</th>\n",
              "    </tr>\n",
              "  </thead>\n",
              "  <tbody>\n",
              "    <tr>\n",
              "      <th>0</th>\n",
              "      <td>f793d90d-73dc-4810-9f1c-6f2d6cd4658c</td>\n",
              "      <td>Tanu Sharma</td>\n",
              "      <td>https://play-lh.googleusercontent.com/a/ALm5wu...</td>\n",
              "      <td>Nice but price higher than jio mart</td>\n",
              "      <td>5</td>\n",
              "      <td>0</td>\n",
              "      <td>None</td>\n",
              "      <td>2022-10-19 08:19:18</td>\n",
              "      <td>Your happiness and ease is our prime importanc...</td>\n",
              "      <td>2022-10-19 08:35:29</td>\n",
              "    </tr>\n",
              "    <tr>\n",
              "      <th>1</th>\n",
              "      <td>f8a9f795-01a2-405d-8be2-acedce6ad56d</td>\n",
              "      <td>Mahesh Mahi</td>\n",
              "      <td>https://play-lh.googleusercontent.com/a/ALm5wu...</td>\n",
              "      <td>good fresh products... Well service... On time...</td>\n",
              "      <td>5</td>\n",
              "      <td>0</td>\n",
              "      <td>7.6.0</td>\n",
              "      <td>2022-10-19 08:04:47</td>\n",
              "      <td>Thank you for taking the time to write about y...</td>\n",
              "      <td>2022-10-19 08:20:25</td>\n",
              "    </tr>\n",
              "    <tr>\n",
              "      <th>2</th>\n",
              "      <td>d8d1bed2-4551-4d97-9fec-9fa7464e2e7f</td>\n",
              "      <td>Ramesh Datla</td>\n",
              "      <td>https://play-lh.googleusercontent.com/a/ALm5wu...</td>\n",
              "      <td>Fast and easy using and ordering. Will wait an...</td>\n",
              "      <td>4</td>\n",
              "      <td>0</td>\n",
              "      <td>7.6.2</td>\n",
              "      <td>2022-10-19 08:04:16</td>\n",
              "      <td>We greatly appreciate your business…. Thank yo...</td>\n",
              "      <td>2022-10-19 08:07:07</td>\n",
              "    </tr>\n",
              "    <tr>\n",
              "      <th>3</th>\n",
              "      <td>bee55523-b64c-4420-8889-f08e3bb896a2</td>\n",
              "      <td>swechchha sarojkar</td>\n",
              "      <td>https://play-lh.googleusercontent.com/a-/ACNPE...</td>\n",
              "      <td>Fake one. If u cancelled an order believe me t...</td>\n",
              "      <td>1</td>\n",
              "      <td>0</td>\n",
              "      <td>7.6.2</td>\n",
              "      <td>2022-10-19 07:37:46</td>\n",
              "      <td>Hi, Please accept our sincere apology. We are ...</td>\n",
              "      <td>2022-10-19 07:55:20</td>\n",
              "    </tr>\n",
              "    <tr>\n",
              "      <th>4</th>\n",
              "      <td>c7a61b2a-e044-4c2e-9917-fc4a008cefb2</td>\n",
              "      <td>sam shinchan</td>\n",
              "      <td>https://play-lh.googleusercontent.com/a-/ACNPE...</td>\n",
              "      <td>Didn't enjoy shipping nothing I'm really sugge...</td>\n",
              "      <td>1</td>\n",
              "      <td>0</td>\n",
              "      <td>7.6.2</td>\n",
              "      <td>2022-10-19 07:36:21</td>\n",
              "      <td>Hi sam, Please accept our sincere apology. We ...</td>\n",
              "      <td>2022-10-19 07:42:29</td>\n",
              "    </tr>\n",
              "  </tbody>\n",
              "</table>\n",
              "</div>\n",
              "      <button class=\"colab-df-convert\" onclick=\"convertToInteractive('df-122e0db0-f6cd-4ec4-8a97-b3053dc22c97')\"\n",
              "              title=\"Convert this dataframe to an interactive table.\"\n",
              "              style=\"display:none;\">\n",
              "        \n",
              "  <svg xmlns=\"http://www.w3.org/2000/svg\" height=\"24px\"viewBox=\"0 0 24 24\"\n",
              "       width=\"24px\">\n",
              "    <path d=\"M0 0h24v24H0V0z\" fill=\"none\"/>\n",
              "    <path d=\"M18.56 5.44l.94 2.06.94-2.06 2.06-.94-2.06-.94-.94-2.06-.94 2.06-2.06.94zm-11 1L8.5 8.5l.94-2.06 2.06-.94-2.06-.94L8.5 2.5l-.94 2.06-2.06.94zm10 10l.94 2.06.94-2.06 2.06-.94-2.06-.94-.94-2.06-.94 2.06-2.06.94z\"/><path d=\"M17.41 7.96l-1.37-1.37c-.4-.4-.92-.59-1.43-.59-.52 0-1.04.2-1.43.59L10.3 9.45l-7.72 7.72c-.78.78-.78 2.05 0 2.83L4 21.41c.39.39.9.59 1.41.59.51 0 1.02-.2 1.41-.59l7.78-7.78 2.81-2.81c.8-.78.8-2.07 0-2.86zM5.41 20L4 18.59l7.72-7.72 1.47 1.35L5.41 20z\"/>\n",
              "  </svg>\n",
              "      </button>\n",
              "      \n",
              "  <style>\n",
              "    .colab-df-container {\n",
              "      display:flex;\n",
              "      flex-wrap:wrap;\n",
              "      gap: 12px;\n",
              "    }\n",
              "\n",
              "    .colab-df-convert {\n",
              "      background-color: #E8F0FE;\n",
              "      border: none;\n",
              "      border-radius: 50%;\n",
              "      cursor: pointer;\n",
              "      display: none;\n",
              "      fill: #1967D2;\n",
              "      height: 32px;\n",
              "      padding: 0 0 0 0;\n",
              "      width: 32px;\n",
              "    }\n",
              "\n",
              "    .colab-df-convert:hover {\n",
              "      background-color: #E2EBFA;\n",
              "      box-shadow: 0px 1px 2px rgba(60, 64, 67, 0.3), 0px 1px 3px 1px rgba(60, 64, 67, 0.15);\n",
              "      fill: #174EA6;\n",
              "    }\n",
              "\n",
              "    [theme=dark] .colab-df-convert {\n",
              "      background-color: #3B4455;\n",
              "      fill: #D2E3FC;\n",
              "    }\n",
              "\n",
              "    [theme=dark] .colab-df-convert:hover {\n",
              "      background-color: #434B5C;\n",
              "      box-shadow: 0px 1px 3px 1px rgba(0, 0, 0, 0.15);\n",
              "      filter: drop-shadow(0px 1px 2px rgba(0, 0, 0, 0.3));\n",
              "      fill: #FFFFFF;\n",
              "    }\n",
              "  </style>\n",
              "\n",
              "      <script>\n",
              "        const buttonEl =\n",
              "          document.querySelector('#df-122e0db0-f6cd-4ec4-8a97-b3053dc22c97 button.colab-df-convert');\n",
              "        buttonEl.style.display =\n",
              "          google.colab.kernel.accessAllowed ? 'block' : 'none';\n",
              "\n",
              "        async function convertToInteractive(key) {\n",
              "          const element = document.querySelector('#df-122e0db0-f6cd-4ec4-8a97-b3053dc22c97');\n",
              "          const dataTable =\n",
              "            await google.colab.kernel.invokeFunction('convertToInteractive',\n",
              "                                                     [key], {});\n",
              "          if (!dataTable) return;\n",
              "\n",
              "          const docLinkHtml = 'Like what you see? Visit the ' +\n",
              "            '<a target=\"_blank\" href=https://colab.research.google.com/notebooks/data_table.ipynb>data table notebook</a>'\n",
              "            + ' to learn more about interactive tables.';\n",
              "          element.innerHTML = '';\n",
              "          dataTable['output_type'] = 'display_data';\n",
              "          await google.colab.output.renderOutput(dataTable, element);\n",
              "          const docLink = document.createElement('div');\n",
              "          docLink.innerHTML = docLinkHtml;\n",
              "          element.appendChild(docLink);\n",
              "        }\n",
              "      </script>\n",
              "    </div>\n",
              "  </div>\n",
              "  "
            ]
          },
          "metadata": {},
          "execution_count": 16
        }
      ]
    },
    {
      "cell_type": "code",
      "source": [
        "df1.shape"
      ],
      "metadata": {
        "colab": {
          "base_uri": "https://localhost:8080/"
        },
        "id": "SnVOML-vUudE",
        "outputId": "7b0e37f1-2bfc-4ef9-e793-c897b95e7fc1"
      },
      "execution_count": null,
      "outputs": [
        {
          "output_type": "execute_result",
          "data": {
            "text/plain": [
              "(235687, 10)"
            ]
          },
          "metadata": {},
          "execution_count": 17
        }
      ]
    },
    {
      "cell_type": "code",
      "source": [
        "df1.to_excel(\"Bigbasket Reviews.xlsx\")"
      ],
      "metadata": {
        "id": "MZax99AtXdF5"
      },
      "execution_count": null,
      "outputs": []
    },
    {
      "cell_type": "code",
      "source": [
        "jm = reviews_all('com.jpl.jiomart' , sleep_milliseconds=0, lang= 'en', sort= Sort.NEWEST)"
      ],
      "metadata": {
        "id": "yy-p6-HGkosg"
      },
      "execution_count": null,
      "outputs": []
    },
    {
      "cell_type": "code",
      "source": [
        "df2= pd.json_normalize(jm)"
      ],
      "metadata": {
        "id": "_iTFbXsZUX11"
      },
      "execution_count": null,
      "outputs": []
    },
    {
      "cell_type": "code",
      "source": [
        "df2.head()"
      ],
      "metadata": {
        "colab": {
          "base_uri": "https://localhost:8080/",
          "height": 354
        },
        "id": "TCtuh61aUjpL",
        "outputId": "00b2f302-9c6a-4ac9-c540-0f884f9ccb68"
      },
      "execution_count": null,
      "outputs": [
        {
          "output_type": "execute_result",
          "data": {
            "text/plain": [
              "                               reviewId       userName  \\\n",
              "0  ccb7f28d-32bc-498b-930e-4cc86eea6932    Vivek Lakum   \n",
              "1  0a7f0d2a-3815-46d4-bb5a-202db3ab14d8   Liyakath ali   \n",
              "2  0a69b1bf-7c98-41c5-b99f-8a761df2bc79  jagjeet singh   \n",
              "3  9e13f501-6154-4b85-a7cb-edcf3a82ee42      Pintu Das   \n",
              "4  09c540b1-9e6e-4364-a95d-3f2349e91b01   Chirag Puvar   \n",
              "\n",
              "                                           userImage  \\\n",
              "0  https://play-lh.googleusercontent.com/a/ALm5wu...   \n",
              "1  https://play-lh.googleusercontent.com/a-/ACNPE...   \n",
              "2  https://play-lh.googleusercontent.com/a/ALm5wu...   \n",
              "3  https://play-lh.googleusercontent.com/a/ALm5wu...   \n",
              "4  https://play-lh.googleusercontent.com/a-/ACNPE...   \n",
              "\n",
              "                                             content  score  thumbsUpCount  \\\n",
              "0                                           ❤️❤️❤️❤️      5              0   \n",
              "1                                           good app      5              0   \n",
              "2  Worst experience on the name jio company....i ...      1              0   \n",
              "3  Very bad delivery. Customer care no response. ...      1              0   \n",
              "4                                               Nice      5              0   \n",
              "\n",
              "  reviewCreatedVersion                  at  \\\n",
              "0               1.0.31 2022-10-19 07:16:56   \n",
              "1               1.0.31 2022-10-19 07:16:16   \n",
              "2               1.0.31 2022-10-19 07:16:01   \n",
              "3               1.0.31 2022-10-19 07:14:32   \n",
              "4               1.0.31 2022-10-19 07:12:58   \n",
              "\n",
              "                                        replyContent           repliedAt  \n",
              "0                                               None                 NaT  \n",
              "1                                               None                 NaT  \n",
              "2  Hi jagjeet, We regret for the inconvenience ca... 2022-10-19 07:34:21  \n",
              "3  Hi Pintu, We regret the inconvenience caused. ... 2022-10-19 07:27:41  \n",
              "4                                               None                 NaT  "
            ],
            "text/html": [
              "\n",
              "  <div id=\"df-9f3abed4-f1df-444f-8a88-dc05d18d768d\">\n",
              "    <div class=\"colab-df-container\">\n",
              "      <div>\n",
              "<style scoped>\n",
              "    .dataframe tbody tr th:only-of-type {\n",
              "        vertical-align: middle;\n",
              "    }\n",
              "\n",
              "    .dataframe tbody tr th {\n",
              "        vertical-align: top;\n",
              "    }\n",
              "\n",
              "    .dataframe thead th {\n",
              "        text-align: right;\n",
              "    }\n",
              "</style>\n",
              "<table border=\"1\" class=\"dataframe\">\n",
              "  <thead>\n",
              "    <tr style=\"text-align: right;\">\n",
              "      <th></th>\n",
              "      <th>reviewId</th>\n",
              "      <th>userName</th>\n",
              "      <th>userImage</th>\n",
              "      <th>content</th>\n",
              "      <th>score</th>\n",
              "      <th>thumbsUpCount</th>\n",
              "      <th>reviewCreatedVersion</th>\n",
              "      <th>at</th>\n",
              "      <th>replyContent</th>\n",
              "      <th>repliedAt</th>\n",
              "    </tr>\n",
              "  </thead>\n",
              "  <tbody>\n",
              "    <tr>\n",
              "      <th>0</th>\n",
              "      <td>ccb7f28d-32bc-498b-930e-4cc86eea6932</td>\n",
              "      <td>Vivek Lakum</td>\n",
              "      <td>https://play-lh.googleusercontent.com/a/ALm5wu...</td>\n",
              "      <td>❤️❤️❤️❤️</td>\n",
              "      <td>5</td>\n",
              "      <td>0</td>\n",
              "      <td>1.0.31</td>\n",
              "      <td>2022-10-19 07:16:56</td>\n",
              "      <td>None</td>\n",
              "      <td>NaT</td>\n",
              "    </tr>\n",
              "    <tr>\n",
              "      <th>1</th>\n",
              "      <td>0a7f0d2a-3815-46d4-bb5a-202db3ab14d8</td>\n",
              "      <td>Liyakath ali</td>\n",
              "      <td>https://play-lh.googleusercontent.com/a-/ACNPE...</td>\n",
              "      <td>good app</td>\n",
              "      <td>5</td>\n",
              "      <td>0</td>\n",
              "      <td>1.0.31</td>\n",
              "      <td>2022-10-19 07:16:16</td>\n",
              "      <td>None</td>\n",
              "      <td>NaT</td>\n",
              "    </tr>\n",
              "    <tr>\n",
              "      <th>2</th>\n",
              "      <td>0a69b1bf-7c98-41c5-b99f-8a761df2bc79</td>\n",
              "      <td>jagjeet singh</td>\n",
              "      <td>https://play-lh.googleusercontent.com/a/ALm5wu...</td>\n",
              "      <td>Worst experience on the name jio company....i ...</td>\n",
              "      <td>1</td>\n",
              "      <td>0</td>\n",
              "      <td>1.0.31</td>\n",
              "      <td>2022-10-19 07:16:01</td>\n",
              "      <td>Hi jagjeet, We regret for the inconvenience ca...</td>\n",
              "      <td>2022-10-19 07:34:21</td>\n",
              "    </tr>\n",
              "    <tr>\n",
              "      <th>3</th>\n",
              "      <td>9e13f501-6154-4b85-a7cb-edcf3a82ee42</td>\n",
              "      <td>Pintu Das</td>\n",
              "      <td>https://play-lh.googleusercontent.com/a/ALm5wu...</td>\n",
              "      <td>Very bad delivery. Customer care no response. ...</td>\n",
              "      <td>1</td>\n",
              "      <td>0</td>\n",
              "      <td>1.0.31</td>\n",
              "      <td>2022-10-19 07:14:32</td>\n",
              "      <td>Hi Pintu, We regret the inconvenience caused. ...</td>\n",
              "      <td>2022-10-19 07:27:41</td>\n",
              "    </tr>\n",
              "    <tr>\n",
              "      <th>4</th>\n",
              "      <td>09c540b1-9e6e-4364-a95d-3f2349e91b01</td>\n",
              "      <td>Chirag Puvar</td>\n",
              "      <td>https://play-lh.googleusercontent.com/a-/ACNPE...</td>\n",
              "      <td>Nice</td>\n",
              "      <td>5</td>\n",
              "      <td>0</td>\n",
              "      <td>1.0.31</td>\n",
              "      <td>2022-10-19 07:12:58</td>\n",
              "      <td>None</td>\n",
              "      <td>NaT</td>\n",
              "    </tr>\n",
              "  </tbody>\n",
              "</table>\n",
              "</div>\n",
              "      <button class=\"colab-df-convert\" onclick=\"convertToInteractive('df-9f3abed4-f1df-444f-8a88-dc05d18d768d')\"\n",
              "              title=\"Convert this dataframe to an interactive table.\"\n",
              "              style=\"display:none;\">\n",
              "        \n",
              "  <svg xmlns=\"http://www.w3.org/2000/svg\" height=\"24px\"viewBox=\"0 0 24 24\"\n",
              "       width=\"24px\">\n",
              "    <path d=\"M0 0h24v24H0V0z\" fill=\"none\"/>\n",
              "    <path d=\"M18.56 5.44l.94 2.06.94-2.06 2.06-.94-2.06-.94-.94-2.06-.94 2.06-2.06.94zm-11 1L8.5 8.5l.94-2.06 2.06-.94-2.06-.94L8.5 2.5l-.94 2.06-2.06.94zm10 10l.94 2.06.94-2.06 2.06-.94-2.06-.94-.94-2.06-.94 2.06-2.06.94z\"/><path d=\"M17.41 7.96l-1.37-1.37c-.4-.4-.92-.59-1.43-.59-.52 0-1.04.2-1.43.59L10.3 9.45l-7.72 7.72c-.78.78-.78 2.05 0 2.83L4 21.41c.39.39.9.59 1.41.59.51 0 1.02-.2 1.41-.59l7.78-7.78 2.81-2.81c.8-.78.8-2.07 0-2.86zM5.41 20L4 18.59l7.72-7.72 1.47 1.35L5.41 20z\"/>\n",
              "  </svg>\n",
              "      </button>\n",
              "      \n",
              "  <style>\n",
              "    .colab-df-container {\n",
              "      display:flex;\n",
              "      flex-wrap:wrap;\n",
              "      gap: 12px;\n",
              "    }\n",
              "\n",
              "    .colab-df-convert {\n",
              "      background-color: #E8F0FE;\n",
              "      border: none;\n",
              "      border-radius: 50%;\n",
              "      cursor: pointer;\n",
              "      display: none;\n",
              "      fill: #1967D2;\n",
              "      height: 32px;\n",
              "      padding: 0 0 0 0;\n",
              "      width: 32px;\n",
              "    }\n",
              "\n",
              "    .colab-df-convert:hover {\n",
              "      background-color: #E2EBFA;\n",
              "      box-shadow: 0px 1px 2px rgba(60, 64, 67, 0.3), 0px 1px 3px 1px rgba(60, 64, 67, 0.15);\n",
              "      fill: #174EA6;\n",
              "    }\n",
              "\n",
              "    [theme=dark] .colab-df-convert {\n",
              "      background-color: #3B4455;\n",
              "      fill: #D2E3FC;\n",
              "    }\n",
              "\n",
              "    [theme=dark] .colab-df-convert:hover {\n",
              "      background-color: #434B5C;\n",
              "      box-shadow: 0px 1px 3px 1px rgba(0, 0, 0, 0.15);\n",
              "      filter: drop-shadow(0px 1px 2px rgba(0, 0, 0, 0.3));\n",
              "      fill: #FFFFFF;\n",
              "    }\n",
              "  </style>\n",
              "\n",
              "      <script>\n",
              "        const buttonEl =\n",
              "          document.querySelector('#df-9f3abed4-f1df-444f-8a88-dc05d18d768d button.colab-df-convert');\n",
              "        buttonEl.style.display =\n",
              "          google.colab.kernel.accessAllowed ? 'block' : 'none';\n",
              "\n",
              "        async function convertToInteractive(key) {\n",
              "          const element = document.querySelector('#df-9f3abed4-f1df-444f-8a88-dc05d18d768d');\n",
              "          const dataTable =\n",
              "            await google.colab.kernel.invokeFunction('convertToInteractive',\n",
              "                                                     [key], {});\n",
              "          if (!dataTable) return;\n",
              "\n",
              "          const docLinkHtml = 'Like what you see? Visit the ' +\n",
              "            '<a target=\"_blank\" href=https://colab.research.google.com/notebooks/data_table.ipynb>data table notebook</a>'\n",
              "            + ' to learn more about interactive tables.';\n",
              "          element.innerHTML = '';\n",
              "          dataTable['output_type'] = 'display_data';\n",
              "          await google.colab.output.renderOutput(dataTable, element);\n",
              "          const docLink = document.createElement('div');\n",
              "          docLink.innerHTML = docLinkHtml;\n",
              "          element.appendChild(docLink);\n",
              "        }\n",
              "      </script>\n",
              "    </div>\n",
              "  </div>\n",
              "  "
            ]
          },
          "metadata": {},
          "execution_count": 6
        }
      ]
    },
    {
      "cell_type": "code",
      "source": [
        "df2.shape"
      ],
      "metadata": {
        "colab": {
          "base_uri": "https://localhost:8080/"
        },
        "id": "wniwAO-HUysv",
        "outputId": "a0e076a5-6795-484a-98f1-38b63defe284"
      },
      "execution_count": null,
      "outputs": [
        {
          "output_type": "execute_result",
          "data": {
            "text/plain": [
              "(204424, 10)"
            ]
          },
          "metadata": {},
          "execution_count": 7
        }
      ]
    },
    {
      "cell_type": "code",
      "source": [
        "df2.to_excel(\"Jio Mart Reviews.xlsx\")"
      ],
      "metadata": {
        "id": "KlF3wC9RzJiV"
      },
      "execution_count": null,
      "outputs": []
    },
    {
      "cell_type": "code",
      "source": [
        "bl = reviews_all('com.grofers.customerapp' , sleep_milliseconds=0, lang= 'en', sort= Sort.NEWEST)"
      ],
      "metadata": {
        "id": "xyCExai3T7Y0"
      },
      "execution_count": null,
      "outputs": []
    },
    {
      "cell_type": "code",
      "source": [
        "df3= pd.json_normalize(bl)"
      ],
      "metadata": {
        "id": "e9WTypmHUaqe"
      },
      "execution_count": null,
      "outputs": []
    },
    {
      "cell_type": "code",
      "source": [
        "df3.head()"
      ],
      "metadata": {
        "colab": {
          "base_uri": "https://localhost:8080/",
          "height": 337
        },
        "id": "PY6AATnMUmBl",
        "outputId": "19085d5c-2bc6-411c-8039-4789173f9638"
      },
      "execution_count": null,
      "outputs": [
        {
          "output_type": "execute_result",
          "data": {
            "text/plain": [
              "                               reviewId             userName  \\\n",
              "0  01e789a2-7348-4cf7-9b95-6a825d0dface  Dr Yusuf Khan Tadvi   \n",
              "1  a4439e2d-4343-4b73-895f-4c8d7b2aac0e              S KUMAR   \n",
              "2  92ccf3ee-d85f-45f3-9294-7dd4d72b50b3         SATYA SHUKLA   \n",
              "3  687a1831-d662-438f-9bd6-63e1f47ae1a4        Megha Sangwan   \n",
              "4  3f5494d0-4dc5-469c-9ef4-6b31551703c8     TARA DUTT Tiwari   \n",
              "\n",
              "                                           userImage  \\\n",
              "0  https://play-lh.googleusercontent.com/a/ALm5wu...   \n",
              "1  https://play-lh.googleusercontent.com/a-/ACNPE...   \n",
              "2  https://play-lh.googleusercontent.com/a-/ACNPE...   \n",
              "3  https://play-lh.googleusercontent.com/a-/ACNPE...   \n",
              "4  https://play-lh.googleusercontent.com/a-/ACNPE...   \n",
              "\n",
              "                            content  score  thumbsUpCount  \\\n",
              "0                        Nice Stuff      4              0   \n",
              "1  Wow fast delivery and good items      5              0   \n",
              "2             Such a helpful app...      4              0   \n",
              "3                  on time delivery      5              0   \n",
              "4                      Good service      5              0   \n",
              "\n",
              "  reviewCreatedVersion                  at  \\\n",
              "0            14.16.0.2 2022-10-19 07:41:37   \n",
              "1            14.16.0.2 2022-10-19 07:25:43   \n",
              "2            14.16.0.2 2022-10-19 07:17:06   \n",
              "3            14.16.0.1 2022-10-19 07:16:47   \n",
              "4            14.16.0.2 2022-10-19 07:14:27   \n",
              "\n",
              "                                        replyContent           repliedAt  \n",
              "0  Thanks for the 4 stars and encouraging words, ... 2022-10-19 07:48:32  \n",
              "1  Hi, thank you for your kind words. Assuring yo... 2022-10-19 07:28:55  \n",
              "2  Hi Satya, thanks for the kind words. However, ... 2022-10-19 07:38:02  \n",
              "3  Hi Megha, glad to hear that. Assuring you of s... 2022-10-19 07:36:33  \n",
              "4  Glad to know our services have met your expect... 2022-10-19 07:15:54  "
            ],
            "text/html": [
              "\n",
              "  <div id=\"df-c0b8838c-7721-4bc9-a920-3a5b814b8de8\">\n",
              "    <div class=\"colab-df-container\">\n",
              "      <div>\n",
              "<style scoped>\n",
              "    .dataframe tbody tr th:only-of-type {\n",
              "        vertical-align: middle;\n",
              "    }\n",
              "\n",
              "    .dataframe tbody tr th {\n",
              "        vertical-align: top;\n",
              "    }\n",
              "\n",
              "    .dataframe thead th {\n",
              "        text-align: right;\n",
              "    }\n",
              "</style>\n",
              "<table border=\"1\" class=\"dataframe\">\n",
              "  <thead>\n",
              "    <tr style=\"text-align: right;\">\n",
              "      <th></th>\n",
              "      <th>reviewId</th>\n",
              "      <th>userName</th>\n",
              "      <th>userImage</th>\n",
              "      <th>content</th>\n",
              "      <th>score</th>\n",
              "      <th>thumbsUpCount</th>\n",
              "      <th>reviewCreatedVersion</th>\n",
              "      <th>at</th>\n",
              "      <th>replyContent</th>\n",
              "      <th>repliedAt</th>\n",
              "    </tr>\n",
              "  </thead>\n",
              "  <tbody>\n",
              "    <tr>\n",
              "      <th>0</th>\n",
              "      <td>01e789a2-7348-4cf7-9b95-6a825d0dface</td>\n",
              "      <td>Dr Yusuf Khan Tadvi</td>\n",
              "      <td>https://play-lh.googleusercontent.com/a/ALm5wu...</td>\n",
              "      <td>Nice Stuff</td>\n",
              "      <td>4</td>\n",
              "      <td>0</td>\n",
              "      <td>14.16.0.2</td>\n",
              "      <td>2022-10-19 07:41:37</td>\n",
              "      <td>Thanks for the 4 stars and encouraging words, ...</td>\n",
              "      <td>2022-10-19 07:48:32</td>\n",
              "    </tr>\n",
              "    <tr>\n",
              "      <th>1</th>\n",
              "      <td>a4439e2d-4343-4b73-895f-4c8d7b2aac0e</td>\n",
              "      <td>S KUMAR</td>\n",
              "      <td>https://play-lh.googleusercontent.com/a-/ACNPE...</td>\n",
              "      <td>Wow fast delivery and good items</td>\n",
              "      <td>5</td>\n",
              "      <td>0</td>\n",
              "      <td>14.16.0.2</td>\n",
              "      <td>2022-10-19 07:25:43</td>\n",
              "      <td>Hi, thank you for your kind words. Assuring yo...</td>\n",
              "      <td>2022-10-19 07:28:55</td>\n",
              "    </tr>\n",
              "    <tr>\n",
              "      <th>2</th>\n",
              "      <td>92ccf3ee-d85f-45f3-9294-7dd4d72b50b3</td>\n",
              "      <td>SATYA SHUKLA</td>\n",
              "      <td>https://play-lh.googleusercontent.com/a-/ACNPE...</td>\n",
              "      <td>Such a helpful app...</td>\n",
              "      <td>4</td>\n",
              "      <td>0</td>\n",
              "      <td>14.16.0.2</td>\n",
              "      <td>2022-10-19 07:17:06</td>\n",
              "      <td>Hi Satya, thanks for the kind words. However, ...</td>\n",
              "      <td>2022-10-19 07:38:02</td>\n",
              "    </tr>\n",
              "    <tr>\n",
              "      <th>3</th>\n",
              "      <td>687a1831-d662-438f-9bd6-63e1f47ae1a4</td>\n",
              "      <td>Megha Sangwan</td>\n",
              "      <td>https://play-lh.googleusercontent.com/a-/ACNPE...</td>\n",
              "      <td>on time delivery</td>\n",
              "      <td>5</td>\n",
              "      <td>0</td>\n",
              "      <td>14.16.0.1</td>\n",
              "      <td>2022-10-19 07:16:47</td>\n",
              "      <td>Hi Megha, glad to hear that. Assuring you of s...</td>\n",
              "      <td>2022-10-19 07:36:33</td>\n",
              "    </tr>\n",
              "    <tr>\n",
              "      <th>4</th>\n",
              "      <td>3f5494d0-4dc5-469c-9ef4-6b31551703c8</td>\n",
              "      <td>TARA DUTT Tiwari</td>\n",
              "      <td>https://play-lh.googleusercontent.com/a-/ACNPE...</td>\n",
              "      <td>Good service</td>\n",
              "      <td>5</td>\n",
              "      <td>0</td>\n",
              "      <td>14.16.0.2</td>\n",
              "      <td>2022-10-19 07:14:27</td>\n",
              "      <td>Glad to know our services have met your expect...</td>\n",
              "      <td>2022-10-19 07:15:54</td>\n",
              "    </tr>\n",
              "  </tbody>\n",
              "</table>\n",
              "</div>\n",
              "      <button class=\"colab-df-convert\" onclick=\"convertToInteractive('df-c0b8838c-7721-4bc9-a920-3a5b814b8de8')\"\n",
              "              title=\"Convert this dataframe to an interactive table.\"\n",
              "              style=\"display:none;\">\n",
              "        \n",
              "  <svg xmlns=\"http://www.w3.org/2000/svg\" height=\"24px\"viewBox=\"0 0 24 24\"\n",
              "       width=\"24px\">\n",
              "    <path d=\"M0 0h24v24H0V0z\" fill=\"none\"/>\n",
              "    <path d=\"M18.56 5.44l.94 2.06.94-2.06 2.06-.94-2.06-.94-.94-2.06-.94 2.06-2.06.94zm-11 1L8.5 8.5l.94-2.06 2.06-.94-2.06-.94L8.5 2.5l-.94 2.06-2.06.94zm10 10l.94 2.06.94-2.06 2.06-.94-2.06-.94-.94-2.06-.94 2.06-2.06.94z\"/><path d=\"M17.41 7.96l-1.37-1.37c-.4-.4-.92-.59-1.43-.59-.52 0-1.04.2-1.43.59L10.3 9.45l-7.72 7.72c-.78.78-.78 2.05 0 2.83L4 21.41c.39.39.9.59 1.41.59.51 0 1.02-.2 1.41-.59l7.78-7.78 2.81-2.81c.8-.78.8-2.07 0-2.86zM5.41 20L4 18.59l7.72-7.72 1.47 1.35L5.41 20z\"/>\n",
              "  </svg>\n",
              "      </button>\n",
              "      \n",
              "  <style>\n",
              "    .colab-df-container {\n",
              "      display:flex;\n",
              "      flex-wrap:wrap;\n",
              "      gap: 12px;\n",
              "    }\n",
              "\n",
              "    .colab-df-convert {\n",
              "      background-color: #E8F0FE;\n",
              "      border: none;\n",
              "      border-radius: 50%;\n",
              "      cursor: pointer;\n",
              "      display: none;\n",
              "      fill: #1967D2;\n",
              "      height: 32px;\n",
              "      padding: 0 0 0 0;\n",
              "      width: 32px;\n",
              "    }\n",
              "\n",
              "    .colab-df-convert:hover {\n",
              "      background-color: #E2EBFA;\n",
              "      box-shadow: 0px 1px 2px rgba(60, 64, 67, 0.3), 0px 1px 3px 1px rgba(60, 64, 67, 0.15);\n",
              "      fill: #174EA6;\n",
              "    }\n",
              "\n",
              "    [theme=dark] .colab-df-convert {\n",
              "      background-color: #3B4455;\n",
              "      fill: #D2E3FC;\n",
              "    }\n",
              "\n",
              "    [theme=dark] .colab-df-convert:hover {\n",
              "      background-color: #434B5C;\n",
              "      box-shadow: 0px 1px 3px 1px rgba(0, 0, 0, 0.15);\n",
              "      filter: drop-shadow(0px 1px 2px rgba(0, 0, 0, 0.3));\n",
              "      fill: #FFFFFF;\n",
              "    }\n",
              "  </style>\n",
              "\n",
              "      <script>\n",
              "        const buttonEl =\n",
              "          document.querySelector('#df-c0b8838c-7721-4bc9-a920-3a5b814b8de8 button.colab-df-convert');\n",
              "        buttonEl.style.display =\n",
              "          google.colab.kernel.accessAllowed ? 'block' : 'none';\n",
              "\n",
              "        async function convertToInteractive(key) {\n",
              "          const element = document.querySelector('#df-c0b8838c-7721-4bc9-a920-3a5b814b8de8');\n",
              "          const dataTable =\n",
              "            await google.colab.kernel.invokeFunction('convertToInteractive',\n",
              "                                                     [key], {});\n",
              "          if (!dataTable) return;\n",
              "\n",
              "          const docLinkHtml = 'Like what you see? Visit the ' +\n",
              "            '<a target=\"_blank\" href=https://colab.research.google.com/notebooks/data_table.ipynb>data table notebook</a>'\n",
              "            + ' to learn more about interactive tables.';\n",
              "          element.innerHTML = '';\n",
              "          dataTable['output_type'] = 'display_data';\n",
              "          await google.colab.output.renderOutput(dataTable, element);\n",
              "          const docLink = document.createElement('div');\n",
              "          docLink.innerHTML = docLinkHtml;\n",
              "          element.appendChild(docLink);\n",
              "        }\n",
              "      </script>\n",
              "    </div>\n",
              "  </div>\n",
              "  "
            ]
          },
          "metadata": {},
          "execution_count": 10
        }
      ]
    },
    {
      "cell_type": "code",
      "source": [
        "df3.shape"
      ],
      "metadata": {
        "colab": {
          "base_uri": "https://localhost:8080/"
        },
        "id": "LtcyACG9Ul_z",
        "outputId": "336363c4-df9c-4bbc-847d-5c731354d0e2"
      },
      "execution_count": null,
      "outputs": [
        {
          "output_type": "execute_result",
          "data": {
            "text/plain": [
              "(267824, 10)"
            ]
          },
          "metadata": {},
          "execution_count": 11
        }
      ]
    },
    {
      "cell_type": "code",
      "source": [
        "df3.to_excel(\"Blinkit Reviews.xlsx\")"
      ],
      "metadata": {
        "id": "blbOUbcIXW53"
      },
      "execution_count": null,
      "outputs": []
    }
  ]
}